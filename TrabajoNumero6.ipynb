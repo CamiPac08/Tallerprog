{
  "nbformat": 4,
  "nbformat_minor": 0,
  "metadata": {
    "colab": {
      "provenance": []
    },
    "kernelspec": {
      "name": "python3",
      "display_name": "Python 3"
    },
    "language_info": {
      "name": "python"
    }
  },
  "cells": [
    {
      "cell_type": "markdown",
      "source": [
        "## 1) Crear un script que permita generar un archivo con un texto a leccion."
      ],
      "metadata": {
        "id": "Z988R2x0p73U"
      }
    },
    {
      "cell_type": "code",
      "source": [
        "def generar_archivo():\n",
        "  texto = \"Este es un ejemplo de texto que puedes modificar.\"\n",
        "  with open(\"archivo.txt\", \"w\") as file:\n",
        "    file.write(texto)\n",
        "\n",
        "generar_archivo()"
      ],
      "metadata": {
        "id": "Ii6bmVokqQ_y"
      },
      "execution_count": 4,
      "outputs": []
    },
    {
      "cell_type": "markdown",
      "source": [
        "## 2) Escribir un programa que permita agregar y eliminar lineas de textos mediante un archivo y utilizando un menu para el usuario.\n"
      ],
      "metadata": {
        "id": "_pDJZsbHPZEx"
      }
    },
    {
      "cell_type": "code",
      "source": [
        "def agregar_linea():\n",
        "  nueva_linea = input(\"Ingrese la nueva linea: \")\n",
        "  with open(\"archivo.txt\", \"a\") as file:\n",
        "    file.write(\"\\n\" + nueva_linea)\n",
        "\n",
        "def eliminar_linea():\n",
        "  numero_linea = int(input(\"Ingrese el numero de linea a eliminar: \"))\n",
        "  with open(\"archivo.txt\", \"r\") as file:\n",
        "    lines = file.readlines()\n",
        "  with open(\"archivo.txt\", \"w\") as file:\n",
        "    for i, line in enumerate(lines, 1):\n",
        "      if i != numero_linea:\n",
        "        file.write(line)\n",
        "\n",
        "while True:\n",
        "  print(\"\\nMenu:\")\n",
        "  print(\"1. Agregar linea\")\n",
        "  print(\"2. Eliminar linea\")\n",
        "  print(\"3. Salir\")\n",
        "\n",
        "  opcion = int(input(\"Seleccione una opcion: \"))\n",
        "\n",
        "  if opcion == 1:\n",
        "    agregar_linea()\n",
        "  elif opcion == 2:\n",
        "    eliminar_linea()\n",
        "  elif opcion == 3:\n",
        "    break\n",
        "  else:\n",
        "    print(\"Opcion no valida. Intente de nuevo\")"
      ],
      "metadata": {
        "colab": {
          "base_uri": "https://localhost:8080/"
        },
        "id": "RH_XgOHRQI3I",
        "outputId": "5beca361-6d66-4880-e750-21f2545b4199"
      },
      "execution_count": 6,
      "outputs": [
        {
          "name": "stdout",
          "output_type": "stream",
          "text": [
            "\n",
            "Menu:\n",
            "1. Agregar linea\n",
            "2. Eliminar linea\n",
            "3. Salir\n",
            "Seleccione una opcion: 1\n",
            "Ingrese la nueva linea: 12345678910\n",
            "\n",
            "Menu:\n",
            "1. Agregar linea\n",
            "2. Eliminar linea\n",
            "3. Salir\n",
            "Seleccione una opcion: 1\n",
            "Ingrese la nueva linea: 12345\n",
            "\n",
            "Menu:\n",
            "1. Agregar linea\n",
            "2. Eliminar linea\n",
            "3. Salir\n",
            "Seleccione una opcion: 2\n",
            "Ingrese el numero de linea a eliminar: 12345\n",
            "\n",
            "Menu:\n",
            "1. Agregar linea\n",
            "2. Eliminar linea\n",
            "3. Salir\n",
            "Seleccione una opcion: 2\n",
            "Ingrese el numero de linea a eliminar: 1\n",
            "\n",
            "Menu:\n",
            "1. Agregar linea\n",
            "2. Eliminar linea\n",
            "3. Salir\n",
            "Seleccione una opcion: 3\n"
          ]
        }
      ]
    },
    {
      "cell_type": "markdown",
      "source": [
        "## 3) Se solicita crear un programa para el manejo de alumnos de un instituo, los alumnos se registran con su DNI, Apellido, Nombre y la carrera en la que estan inscriptos. Realizar un menu para que el usuario pueda realizar las siguientes operariones: agregar, mostrar, eliminar un alumno del sistema. Para la base de datos, utilizar un archivo CSV. El script debe estar modularizado."
      ],
      "metadata": {
        "id": "IgDiKv__WMsn"
      }
    },
    {
      "cell_type": "code",
      "source": [
        "import csv\n",
        "\n",
        "def agregar_alumno():\n",
        "  dni = input(\"Ingrese el DNI del alumno: \")\n",
        "  apellido = input(\"Ingrese el apellido del alumno: \")\n",
        "  nombre = input(\"Ingrese el nombre del alumno: \")\n",
        "  carrera = input(\"Ingrese la carrera en la esta inscripto el alumno: \")\n",
        "\n",
        "  with open(\"alumnos.csv\", \"a\", newline=\"\") as file:\n",
        "    writer = csv.writer(file)\n",
        "    writer.writerow([dni, apellido, nombre, carrera])\n",
        "\n",
        "def mostrar_alumnos():\n",
        "  with open(\"alumnos.csv\", newline=\"\") as file:\n",
        "    reader = csv.reader(file)\n",
        "    for row in reader:\n",
        "      print(row)\n",
        "\n",
        "def eliminar_alumno():\n",
        "  dni_eliminar = input(\"Ingrese el DNI del alumno a eliminar: \")\n",
        "  with open(\"alumnos.csv\", \"r\") as file:\n",
        "    lines = list(csv.reader(file))\n",
        "  with open(\"alumnos.csv\", \"w\", newline=\"\") as file:\n",
        "    writer = csv.writer(file)\n",
        "    for line in lines:\n",
        "      if line[0] != dni_eliminar:\n",
        "        writer.writerow(line)\n",
        "\n",
        "while True:\n",
        "  print(\"\\nMenu para manejo de alumnos:\")\n",
        "  print(\"1. Agregar alumno\")\n",
        "  print(\"2. Mostrar alumnos\")\n",
        "  print(\"3. Eliminar alumno\")\n",
        "  print(\"4. Salir\")\n",
        "\n",
        "  opcion = int(input(\"Seleccione una opcion: \"))\n",
        "\n",
        "  if opcion == 1:\n",
        "    agregar_alumno()\n",
        "  elif opcion == 2:\n",
        "    mostrar_alumnos()\n",
        "  elif opcion == 3:\n",
        "    eliminar_alumno()\n",
        "  elif opcion == 4:\n",
        "    break\n",
        "  else:\n",
        "    print(\"Opcion no valida. Intente de nuevo.\")\n"
      ],
      "metadata": {
        "colab": {
          "base_uri": "https://localhost:8080/"
        },
        "id": "7hPON3s9W8aI",
        "outputId": "8dabefd3-2387-42c1-8751-8b5b8978a1d7"
      },
      "execution_count": 7,
      "outputs": [
        {
          "name": "stdout",
          "output_type": "stream",
          "text": [
            "\n",
            "Menu para manejo de alumnos:\n",
            "1. Agregar alumno\n",
            "2. Mostrar alumnos\n",
            "3. Eliminar alumno\n",
            "4. Salir\n",
            "Seleccione una opcion: 1\n",
            "Ingrese el DNI del alumno: 42607258\n",
            "Ingrese el apellido del alumno: cordoba\n",
            "Ingrese el nombre del alumno: ariel\n",
            "Ingrese la carrera en la esta inscripto el alumno: informatica\n",
            "\n",
            "Menu para manejo de alumnos:\n",
            "1. Agregar alumno\n",
            "2. Mostrar alumnos\n",
            "3. Eliminar alumno\n",
            "4. Salir\n",
            "Seleccione una opcion: 3\n",
            "Ingrese el DNI del alumno a eliminar: 42607258\n",
            "\n",
            "Menu para manejo de alumnos:\n",
            "1. Agregar alumno\n",
            "2. Mostrar alumnos\n",
            "3. Eliminar alumno\n",
            "4. Salir\n",
            "Seleccione una opcion: 2\n",
            "\n",
            "Menu para manejo de alumnos:\n",
            "1. Agregar alumno\n",
            "2. Mostrar alumnos\n",
            "3. Eliminar alumno\n",
            "4. Salir\n",
            "Seleccione una opcion: 1\n",
            "Ingrese el DNI del alumno: 42607258\n",
            "Ingrese el apellido del alumno: Falcon\n",
            "Ingrese el nombre del alumno: Gaston\n",
            "Ingrese la carrera en la esta inscripto el alumno: Matematica\n",
            "\n",
            "Menu para manejo de alumnos:\n",
            "1. Agregar alumno\n",
            "2. Mostrar alumnos\n",
            "3. Eliminar alumno\n",
            "4. Salir\n",
            "Seleccione una opcion: 1\n",
            "Ingrese el DNI del alumno: 42500200\n",
            "Ingrese el apellido del alumno: Gonzales\n",
            "Ingrese el nombre del alumno: Gustavo\n",
            "Ingrese la carrera en la esta inscripto el alumno: Recursos Humanos\n",
            "\n",
            "Menu para manejo de alumnos:\n",
            "1. Agregar alumno\n",
            "2. Mostrar alumnos\n",
            "3. Eliminar alumno\n",
            "4. Salir\n",
            "Seleccione una opcion: 2\n",
            "['42607258', 'Falcon', 'Gaston', 'Matematica']\n",
            "['42500200', 'Gonzales', 'Gustavo', 'Recursos Humanos']\n",
            "\n",
            "Menu para manejo de alumnos:\n",
            "1. Agregar alumno\n",
            "2. Mostrar alumnos\n",
            "3. Eliminar alumno\n",
            "4. Salir\n",
            "Seleccione una opcion: 4\n"
          ]
        }
      ]
    }
  ]
}