{
  "nbformat": 4,
  "nbformat_minor": 0,
  "metadata": {
    "colab": {
      "provenance": []
    },
    "kernelspec": {
      "name": "python3",
      "display_name": "Python 3"
    },
    "language_info": {
      "name": "python"
    }
  },
  "cells": [
    {
      "cell_type": "code",
      "execution_count": null,
      "metadata": {
        "id": "AccNj0QgbllD"
      },
      "outputs": [],
      "source": []
    },
    {
      "cell_type": "markdown",
      "source": [
        "## EJERCICIO 1\n"
      ],
      "metadata": {
        "id": "zOS0-d4fby3l"
      }
    },
    {
      "cell_type": "code",
      "source": [
        "numero = int(input(\"Ingrese un numero entero positivo: \"))\n",
        "\n",
        "if numero == 1000:\n",
        "   print(\"¡Ganaste un premio!\")\n",
        "\n",
        "else:\n",
        "   print(\"Segui participando.\")"
      ],
      "metadata": {
        "colab": {
          "base_uri": "https://localhost:8080/"
        },
        "id": "vsVGfI_hb62q",
        "outputId": "b1bb3688-8e68-4896-dfbf-ae813c8dc3de"
      },
      "execution_count": null,
      "outputs": [
        {
          "output_type": "stream",
          "name": "stdout",
          "text": [
            "Ingrese un numero entero positivo: 3\n",
            "Segui participando.\n"
          ]
        }
      ]
    },
    {
      "cell_type": "markdown",
      "source": [
        "## EJERCICIO 2\n"
      ],
      "metadata": {
        "id": "zmq9NwUld4O4"
      }
    },
    {
      "cell_type": "code",
      "source": [
        "X = int(input(\"Ingrese un numero: \"))\n",
        "\n",
        "if X % 2 == 0:\n",
        "   print(f\"{X} es un numero par.\")\n",
        "else:\n",
        "   print(f\"{X} es un numero impar.\")"
      ],
      "metadata": {
        "colab": {
          "base_uri": "https://localhost:8080/"
        },
        "id": "PpLytAx5f5_N",
        "outputId": "41bb5c5d-466e-4ab5-cae7-126e1eb67c1e"
      },
      "execution_count": null,
      "outputs": [
        {
          "output_type": "stream",
          "name": "stdout",
          "text": [
            "Ingrese un numero: 10\n",
            "10 es un numero par.\n"
          ]
        }
      ]
    },
    {
      "cell_type": "markdown",
      "source": [
        "## EJERCICIO 3\n"
      ],
      "metadata": {
        "id": "yAg4wFYBhXjY"
      }
    },
    {
      "cell_type": "code",
      "source": [
        "A = int(input(\"Ingrese un numero A: \"))\n",
        "Z = int(input(\"Ingrese un numero Z para verificar si A es multiplo: \"))\n",
        "\n",
        "if A % Z == 0:\n",
        "   print(f\"{A} es multiplo de {Z}.\")\n",
        "\n",
        "else:\n",
        "   print(f\"{A} no es multiplo de {Z}.\")"
      ],
      "metadata": {
        "colab": {
          "base_uri": "https://localhost:8080/"
        },
        "id": "v8l5A2ofha1T",
        "outputId": "63e3dc9b-657b-4197-bc06-1ba816e56791"
      },
      "execution_count": null,
      "outputs": [
        {
          "output_type": "stream",
          "name": "stdout",
          "text": [
            "Ingrese un numero A: 100\n",
            "Ingrese un numero Z para verificar si A es multiplo: 50\n",
            "100 es multiplo de 50.\n"
          ]
        }
      ]
    },
    {
      "cell_type": "markdown",
      "source": [
        "## EJERCICIO 4\n"
      ],
      "metadata": {
        "id": "liGD8E2Ckk-E"
      }
    },
    {
      "cell_type": "code",
      "source": [
        "numero1 = float(input(\"Ingrese el primer numero: \"))\n",
        "numero2 = float(input(\"Ingrese el segundo numero: \"))\n",
        "\n",
        "if numero1 < numero2:\n",
        "   print(f\"{numero1} es menor que {numero2}.\")\n",
        "\n",
        "else:\n",
        "   print(f\"{numero2} es menor que {numero1}.\")"
      ],
      "metadata": {
        "colab": {
          "base_uri": "https://localhost:8080/"
        },
        "id": "iQTA351Pkrwy",
        "outputId": "99c07ca4-d4e4-4e83-e6bf-de92ced20866"
      },
      "execution_count": null,
      "outputs": [
        {
          "output_type": "stream",
          "name": "stdout",
          "text": [
            "Ingrese el primer numero: 500\n",
            "Ingrese el segundo numero: 300\n",
            "300.0 es menor que 500.0.\n"
          ]
        }
      ]
    },
    {
      "cell_type": "markdown",
      "source": [
        "## EJERCICIO 5\n"
      ],
      "metadata": {
        "id": "1arKpooAm-4i"
      }
    },
    {
      "cell_type": "code",
      "source": [
        "A = float(input(\"Ingrese el primer numero (A): \"))\n",
        "B = float(input(\"Ingrese el segundo numero (B): \"))\n",
        "\n",
        "if A > B:\n",
        "   print(f\"{A} es mayor que {B}.\")\n",
        "\n",
        "elif A < B:\n",
        "   print(f\"{B} es mayor que {A}.\")\n",
        "\n",
        "else:\n",
        "   print(f\"Ambos numeros, {A} y {B}, son iguales.\")"
      ],
      "metadata": {
        "colab": {
          "base_uri": "https://localhost:8080/"
        },
        "id": "xEvsJBdDmhhM",
        "outputId": "cedb8762-724b-429b-9053-3ecde11533e5"
      },
      "execution_count": null,
      "outputs": [
        {
          "output_type": "stream",
          "name": "stdout",
          "text": [
            "Ingrese el primer numero (A): 50\n",
            "Ingrese el segundo numero (B): 50\n",
            "Ambos numeros, 50.0 y 50.0, son iguales.\n"
          ]
        }
      ]
    },
    {
      "cell_type": "markdown",
      "source": [
        "## EJERCICIO 6\n"
      ],
      "metadata": {
        "id": "Zgw3CyNqsIx8"
      }
    },
    {
      "cell_type": "code",
      "source": [
        "precio = float(input(\"Ingrese el precio del articulo: \"))\n",
        "\n",
        "if precio > 200:\n",
        "   descuento = precio * 0.20\n",
        "   precio_con_descuento = precio - descuento\n",
        "   print(f\"Se aplico un descuento del 20%. El cliente debe pagar: ${precio_con_descuento:.2f}\")\n",
        "\n",
        "else:\n",
        "   print(f\"No se aplica descuento. El cliente debe pagar: ${precio:.2f}\")"
      ],
      "metadata": {
        "colab": {
          "base_uri": "https://localhost:8080/"
        },
        "id": "IpTqOMDpsPUN",
        "outputId": "ab4cf072-de68-4212-965a-8e0a306af438"
      },
      "execution_count": null,
      "outputs": [
        {
          "output_type": "stream",
          "name": "stdout",
          "text": [
            "Ingrese el precio del articulo: 400\n",
            "Se aplico un descuento del 20%. El cliente debe pagar: $320.00\n"
          ]
        }
      ]
    },
    {
      "cell_type": "markdown",
      "source": [
        "## EJERCICIO 7\n"
      ],
      "metadata": {
        "id": "mIm3qTHD34s3"
      }
    },
    {
      "cell_type": "code",
      "source": [
        "print(\"Opciones de candidatos:\")\n",
        "print(\"A: Candidato A por el partido rojo\")\n",
        "print(\"B: Candidato B por el partido verde\")\n",
        "print(\"C: Candidato C por el partido azul\")\n",
        "\n",
        "voto = input(\"Ingrese la letra del candidato por el cual va a votar (A, B o C)\")\n",
        "\n",
        "if voto == 'A':\n",
        "   print(\"Usted ha votado por el candidato A por el partido rojo.\")\n",
        "elif voto == 'B':\n",
        "   print(\"Usted ha votado por el candidato B por el partido verde.\")\n",
        "elif voto == 'C':\n",
        "   print(\"Usted ha votado por el candidato C por el partido azul.\")\n",
        "else:\n",
        "   print(\"Opcion no valida. Por favor, ingrese A, B o C para votar por un candidato.\")"
      ],
      "metadata": {
        "colab": {
          "base_uri": "https://localhost:8080/"
        },
        "id": "zebI4MQk38v4",
        "outputId": "87db3696-52b4-4d17-e9b1-802ac388f980"
      },
      "execution_count": null,
      "outputs": [
        {
          "output_type": "stream",
          "name": "stdout",
          "text": [
            "Opciones de candidatos:\n",
            "A: Candidato A por el partido rojo\n",
            "B: Candidato B por el partido verde\n",
            "C: Candidato C por el partido azul\n",
            "Ingrese la letra del candidato por el cual va a votar (A, B o C)C\n",
            "Usted ha votado por el candidato C por el partido azul.\n"
          ]
        }
      ]
    },
    {
      "cell_type": "markdown",
      "source": [
        "## EJERCICIO 8\n"
      ],
      "metadata": {
        "id": "soqZIDbsGLkW"
      }
    },
    {
      "cell_type": "code",
      "source": [
        "year = int(input(\"Ingrese un año para determinar si es bisiesto: \"))\n",
        "\n",
        "if (year % 4 == 0 and year % 100 != 0) or (year % 400 == 0):\n",
        "    print(f\"{year} es un año bisiesto.\")\n",
        "\n",
        "else:\n",
        "    print(f\"{year} no es un año bisiesto.\")"
      ],
      "metadata": {
        "colab": {
          "base_uri": "https://localhost:8080/"
        },
        "id": "a5iDL8m4GR0E",
        "outputId": "17b613b5-2242-4d81-d58f-59746391d51f"
      },
      "execution_count": null,
      "outputs": [
        {
          "output_type": "stream",
          "name": "stdout",
          "text": [
            "Ingrese un año para determinar si es bisiesto: 2020\n",
            "2020 es un año bisiesto.\n"
          ]
        }
      ]
    },
    {
      "cell_type": "markdown",
      "source": [
        "## EJERCICIO 9\n"
      ],
      "metadata": {
        "id": "Bn3ludkwJ_mn"
      }
    },
    {
      "cell_type": "code",
      "source": [
        "A = float(input(\"Ingrese un numero: \"))\n",
        "\n",
        "if A > 0:\n",
        "   print(f\"{A} es un numero positivo.\")\n",
        "elif A < 0:\n",
        "   print(f\"{A} es un numero negativo.\")\n",
        "else:\n",
        "   print(f\"{A} es cero.\")"
      ],
      "metadata": {
        "colab": {
          "base_uri": "https://localhost:8080/"
        },
        "id": "YRLTSaObKD2S",
        "outputId": "15513300-cb9b-4c7e-924d-18005febf749"
      },
      "execution_count": null,
      "outputs": [
        {
          "output_type": "stream",
          "name": "stdout",
          "text": [
            "Ingrese un numero: 45\n",
            "45.0 es un numero positivo.\n"
          ]
        }
      ]
    },
    {
      "cell_type": "markdown",
      "source": [
        "## EJERCICIO 10\n"
      ],
      "metadata": {
        "id": "-uUyXeGsM-Ei"
      }
    },
    {
      "cell_type": "code",
      "source": [
        "A = float(input(\"Ingrese el primer valor (A): \"))\n",
        "B = float(input(\"Ingrese el segundo valor (B): \"))\n",
        "C = float(input(\"Ingrese el tercer valor (C): \"))\n",
        "\n",
        "menor = min(A, B, C)\n",
        "\n",
        "print(f\"El menor de los valores {A}, {B} y {C} es {menor}.\")"
      ],
      "metadata": {
        "colab": {
          "base_uri": "https://localhost:8080/"
        },
        "id": "BZR5FXFuNCUG",
        "outputId": "788c3aa6-ccd3-411b-a8d3-4383d8d5a620"
      },
      "execution_count": null,
      "outputs": [
        {
          "output_type": "stream",
          "name": "stdout",
          "text": [
            "Ingrese el primer valor (A): 100\n",
            "Ingrese el segundo valor (B): 200\n",
            "Ingrese el tercer valor (C): 300\n",
            "El menor de los valores 100.0, 200.0 y 300.0 es 100.0.\n"
          ]
        }
      ]
    },
    {
      "cell_type": "markdown",
      "source": [
        "## EJERCICIO 11\n"
      ],
      "metadata": {
        "id": "3FvT3DdARYRo"
      }
    },
    {
      "cell_type": "code",
      "source": [
        "num1 = int(input(\"Ingrese el primer numero entero: \"))\n",
        "num2 = int(input(\"Ingrese el segundo numero entero: \"))\n",
        "\n",
        "division = num1 / num2\n",
        "\n",
        "if num1 % num2 == 0:\n",
        " print(f\"La division de {num1} entre {num2} es exacta. Resultado: {division}\")\n",
        "else:\n",
        " print(f\"La division de {num1} entre {num2} no es exacta. Resultado: {division}\")"
      ],
      "metadata": {
        "colab": {
          "base_uri": "https://localhost:8080/"
        },
        "id": "xWb_ox5MRb5t",
        "outputId": "950c7e39-6714-4d8a-cf25-f71c2da0a018"
      },
      "execution_count": null,
      "outputs": [
        {
          "output_type": "stream",
          "name": "stdout",
          "text": [
            "Ingrese el primer numero entero: 28\n",
            "Ingrese el segundo numero entero: 2\n",
            "La division de 28 entre 2 es exacta. Resultado: 14.0\n"
          ]
        }
      ]
    },
    {
      "cell_type": "markdown",
      "source": [
        "## EJERCICIO 12\n"
      ],
      "metadata": {
        "id": "J_uHV2A5W-IJ"
      }
    },
    {
      "cell_type": "code",
      "source": [
        "num1 = int(input(\"Ingrese el primer numero entero: \"))\n",
        "num2 = int(input(\"Ingrese el segundo numero entero: \"))\n",
        "\n",
        "mayor = max(num1, num2)\n",
        "menor = min(num1, num2)\n",
        "\n",
        "if mayor % menor == 0:\n",
        "   print(f\"{mayor} es multiplo de {menor}.\")\n",
        "else:\n",
        "   print(f\"{mayor} no es multiplo de {menor}.\")"
      ],
      "metadata": {
        "colab": {
          "base_uri": "https://localhost:8080/"
        },
        "id": "A0pjlJGIXBKc",
        "outputId": "a83eed93-8662-4723-a23c-4747bb1ef23c"
      },
      "execution_count": null,
      "outputs": [
        {
          "output_type": "stream",
          "name": "stdout",
          "text": [
            "Ingrese el primer numero entero: 48\n",
            "Ingrese el segundo numero entero: 6\n",
            "48 es multiplo de 6.\n"
          ]
        }
      ]
    },
    {
      "cell_type": "markdown",
      "source": [
        "## EJERCICIO 13\n"
      ],
      "metadata": {
        "id": "itIepHtZgiYf"
      }
    },
    {
      "cell_type": "code",
      "source": [
        "precio_por_kilo = float(input(\"Ingrese el precio por kilo de las manzanas: \"))\n",
        "peso = float(input(\"Ingrese el peso de las manzanas en kilos: \"))\n",
        "\n",
        "if peso <= 2:\n",
        "  descuento = 0\n",
        "elif peso <= 5:\n",
        "  descuento = 0.10\n",
        "elif peso <= 10:\n",
        "  descuento = 0.15\n",
        "else:\n",
        "  descuento = 0.20\n",
        "\n",
        "monto_total = precio_por_kilo * peso * (1 - descuento)\n",
        "\n",
        "print(f\"El monto total a pagar es: ${monto_total:.2f}\")"
      ],
      "metadata": {
        "colab": {
          "base_uri": "https://localhost:8080/"
        },
        "id": "v5JHT1GWgm-B",
        "outputId": "2310b388-5431-4ccb-b3c4-31e621ba7c80"
      },
      "execution_count": null,
      "outputs": [
        {
          "output_type": "stream",
          "name": "stdout",
          "text": [
            "Ingrese el precio por kilo de las manzanas: 20\n",
            "Ingrese el peso de las manzanas en kilos: 2\n",
            "El monto total a pagar es: $40.00\n"
          ]
        }
      ]
    },
    {
      "cell_type": "markdown",
      "source": [
        "## EJERCICIO 14\n"
      ],
      "metadata": {
        "id": "K5pbTcmjjq3A"
      }
    },
    {
      "cell_type": "code",
      "source": [
        "horas_trabajadas = float(input(\"Ingrese las horas trabajas: \"))\n",
        "valor_por_hora = float(input(\"Ingrese el valor por hora: \"))\n",
        "\n",
        "jornada_estandar = 48\n",
        "\n",
        "salario_sin_horas_extras = horas_trabajadas * valor_por_hora\n",
        "\n",
        "if horas_trabajadas > jornada_estandar:\n",
        "    horas_extras = horas_trabajadas - jornada_estandar\n",
        "    valor_hora_extra = valor_por_hora * 1.5\n",
        "    salario_total = salario_sin_horas_extras + (horas_extras * valor_hora_extra)\n",
        "    print(f\"Horas extras trabajadas: {horas_extras:.2f}\")\n",
        "    print(f\"Salario total: ${salario_total:.2f}\")\n",
        "else:\n",
        "    print(f\"Salario total: ${salario_sin_horas_extras:.2f}\")"
      ],
      "metadata": {
        "colab": {
          "base_uri": "https://localhost:8080/"
        },
        "id": "PmjgG97cjvD9",
        "outputId": "6958c7fb-377e-4eef-f951-f177ccc36614"
      },
      "execution_count": null,
      "outputs": [
        {
          "output_type": "stream",
          "name": "stdout",
          "text": [
            "Ingrese las horas trabajas: 9\n",
            "Ingrese el valor por hora: 800\n",
            "Salario total: $7200.00\n"
          ]
        }
      ]
    },
    {
      "cell_type": "markdown",
      "source": [
        "## EJERCICIO 15\n"
      ],
      "metadata": {
        "id": "VnVoTvdvFH8D"
      }
    },
    {
      "cell_type": "code",
      "source": [
        "parcial1 = float(input(\"Ingrese la nota del primer parcial: \"))\n",
        "parcial2 = float(input(\"Ingrese la segunda nota del parcial: \"))\n",
        "\n",
        "nota_final = (parcial1 + parcial2) / 2\n",
        "\n",
        "if 0 <= nota_final < 4:\n",
        "  estado = \"Libre\"\n",
        "elif 4 <= nota_final < 7:\n",
        "  estado = \"Regular\"\n",
        "else:\n",
        "  estado = \"Promocionado\"\n",
        "\n",
        "print(f\"La nota final del estudiante es: {nota_final:.2f}\")\n",
        "print(f\"Estado del alumno: {estado}\")"
      ],
      "metadata": {
        "id": "FISD3GkTFK9H",
        "colab": {
          "base_uri": "https://localhost:8080/"
        },
        "outputId": "b2929f04-aded-4092-b894-ad4f9206f1cd"
      },
      "execution_count": null,
      "outputs": [
        {
          "output_type": "stream",
          "name": "stdout",
          "text": [
            "Ingrese la nota del primer parcial: 6\n",
            "Ingrese la segunda nota del parcial: 8\n",
            "La nota final del estudiante es: 7.00\n",
            "Estado del alumno: Promocionado\n"
          ]
        }
      ]
    },
    {
      "cell_type": "markdown",
      "source": [
        "## EJERCICIO 16\n"
      ],
      "metadata": {
        "id": "wWphyKtJimHP"
      }
    },
    {
      "cell_type": "code",
      "source": [
        "cantidad_productos = int(input(\"Ingrese la cantidad de productos: \"))\n",
        "precio_por_producto = float(input(\"Ingrese el precio por producto: \"))\n",
        "\n",
        "monto_total_sin_descuento = cantidad_productos * precio_por_producto\n",
        "\n",
        "if monto_total_sin_descuento < 50:\n",
        "   monto_total_con_descuento = monto_total_sin_descuento\n",
        "elif 50 <= monto_total_sin_descuento < 150:\n",
        "   descuento = monto_total_sin_descuento * 0.1225\n",
        "   monto_total_con_descuento = monto_total_sin_descuento - descuento\n",
        "else:\n",
        "   descuento = monto_total_sin_descuento * 0.15\n",
        "   monto_total_con_descuento = monto_total_sin_descuento - descuento\n",
        "\n",
        "print(f\"Monto total sin descuento: ${monto_total_sin_descuento:.2f}\")\n",
        "print(f\"Monto total con descuento: ${monto_total_con_descuento:.2f}\")"
      ],
      "metadata": {
        "colab": {
          "base_uri": "https://localhost:8080/"
        },
        "id": "u5i5j_hwiqtr",
        "outputId": "804f0950-52e1-4e7d-d940-6d2fbce1f96e"
      },
      "execution_count": null,
      "outputs": [
        {
          "output_type": "stream",
          "name": "stdout",
          "text": [
            "Ingrese la cantidad de productos: 10\n",
            "Ingrese el precio por producto: 20\n",
            "Monto total sin descuento: $200.00\n",
            "Monto total con descuento: $170.00\n"
          ]
        }
      ]
    },
    {
      "cell_type": "markdown",
      "source": [
        "## EJERCICIO 22\n"
      ],
      "metadata": {
        "id": "VtSZ8vckuLvx"
      }
    },
    {
      "cell_type": "code",
      "source": [
        "horas = int(input(\"Ingrese el numero de las horas de estacionamiento: \"))\n",
        "minutos = int(input(\"Ingrese el numero de minutos de estacionamiento: \"))\n",
        "\n",
        "tiempo_total_en_horas = horas + minutos / 60\n",
        "tarifa_por_hora = 1500\n",
        "monto_total = tiempo_total_en_horas * tarifa_por_hora\n",
        "\n",
        "print(f\"Tiempo total de estacionamiento: {horas} horas y {minutos} minutos\")\n",
        "print(f\"Monto total a pagar: ${monto_total:.2}\")"
      ],
      "metadata": {
        "colab": {
          "base_uri": "https://localhost:8080/"
        },
        "id": "ORX28NeNuOVU",
        "outputId": "f42fd4ca-3f05-48bc-fab5-31f003cb2713"
      },
      "execution_count": null,
      "outputs": [
        {
          "output_type": "stream",
          "name": "stdout",
          "text": [
            "Ingrese el numero de las horas de estacionamiento: 1\n",
            "Ingrese el numero de minutos de estacionamiento: 60\n",
            "Tiempo total de estacionamiento: 1 horas y 60 minutos\n",
            "Monto total a pagar: $3e+03\n"
          ]
        }
      ]
    },
    {
      "cell_type": "markdown",
      "source": [
        "## EJERCICIO 23\n"
      ],
      "metadata": {
        "id": "-eL-eAc9D21s"
      }
    },
    {
      "cell_type": "code",
      "source": [
        "kilometros_recorridos = float(input(\"Ingrese la cantidad de kilometros recorridos: \"))\n",
        "\n",
        "tarifa_fija = 300\n",
        "limite_1 = 300\n",
        "tarifa_adicional_1 = 15000\n",
        "limite_2 = 1000\n",
        "tarifa_adicional1_2 = 1000\n",
        "\n",
        "if kilometros_recorridos <= limite_1:\n",
        "   monto_total = tarifa_fija\n",
        "elif limite_1 < kilometros_recorridos <= limite_2:\n",
        "   monto_total = tarifa_fija + (kilometros_recorridos - limite_1) * tarifa_adicional_1\n",
        "else:\n",
        "   monto_total = tarifa_fija + (limite_2 - limite_1) * tarifa_adicional_1 + (kilometros_recorridos - limite_2) * tarifa_adicional_2\n",
        "\n",
        "print(f\"Kilometros recorridos: {kilometros_recorridos} km\")\n",
        "print(f\"Monto total a pagar: ${monto_total:.2}\")\n"
      ],
      "metadata": {
        "colab": {
          "base_uri": "https://localhost:8080/"
        },
        "id": "G_6gI_PEG-X-",
        "outputId": "de8f1e10-7679-4c2e-b92c-d693e9bce5d0"
      },
      "execution_count": null,
      "outputs": [
        {
          "output_type": "stream",
          "name": "stdout",
          "text": [
            "Ingrese la cantidad de kilometros recorridos: 450\n",
            "Kilometros recorridos: 450.0 km\n",
            "Monto total a pagar: $2.3e+06\n"
          ]
        }
      ]
    }
  ]
}