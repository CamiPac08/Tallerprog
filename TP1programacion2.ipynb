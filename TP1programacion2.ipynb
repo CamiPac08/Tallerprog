{
  "nbformat": 4,
  "nbformat_minor": 0,
  "metadata": {
    "colab": {
      "provenance": []
    },
    "kernelspec": {
      "name": "python3",
      "display_name": "Python 3"
    },
    "language_info": {
      "name": "python"
    }
  },
  "cells": [
    {
      "cell_type": "code",
      "execution_count": 3,
      "metadata": {
        "id": "9figBbfdHg6P",
        "colab": {
          "base_uri": "https://localhost:8080/"
        },
        "outputId": "6d6df415-72db-4963-b3e0-e6110d0e72fb"
      },
      "outputs": [
        {
          "output_type": "stream",
          "name": "stdout",
          "text": [
            "Ingrese el primer valor: 10\n",
            "Ingrese el segundo valor: 20\n",
            "La suma de 10.0 y 20.0 es: 30.0\n"
          ]
        }
      ],
      "source": [
        "\n",
        "valor1 = float(input(\"Ingrese el primer valor: \"))\n",
        "valor2 = float(input(\"Ingrese el segundo valor: \"))\n",
        "\n",
        "suma = valor1 + valor2\n",
        "\n",
        "print(f\"La suma de {valor1} y {valor2} es: {suma}\")"
      ]
    },
    {
      "cell_type": "code",
      "source": [
        "valor1 = float(input(\"Ingrese el primer valor: \"))\n",
        "valor1 = float(input(\"Ingrese el segundo valor: \"))\n",
        "\n",
        "producto = valor1 * valor2\n",
        "\n",
        "print(f\"El producto de {valor1} y {valor2} es {producto}\")\n"
      ],
      "metadata": {
        "colab": {
          "base_uri": "https://localhost:8080/"
        },
        "id": "fhd5PDg-NVxg",
        "outputId": "76c9e497-caa7-4761-ca8b-db825e2c0198"
      },
      "execution_count": 4,
      "outputs": [
        {
          "output_type": "stream",
          "name": "stdout",
          "text": [
            "Ingrese el primer valor: 10\n",
            "Ingrese el segundo valor: 20\n",
            "El producto de 20.0 y 20.0 es 400.0\n"
          ]
        }
      ]
    },
    {
      "cell_type": "code",
      "source": [
        "cateto1 = float(input(\"Ingrese la longitud del primer cateto: \"))\n",
        "cateto2 = float(input(\"Ingrese la longitudad del segundo cateto: \"))\n",
        "\n",
        "hipotenusa = (cateto1**2 + cateto2**2)**0.5\n",
        "\n",
        "print(f\"La hipotenusa del triangulo rectangulo con catetos {cateto1} y {cateto2} es: {hipotenusa}\")"
      ],
      "metadata": {
        "colab": {
          "base_uri": "https://localhost:8080/"
        },
        "id": "osp6ldWMPOOD",
        "outputId": "721e0bf5-2001-447a-bd9e-66a766c63024"
      },
      "execution_count": 5,
      "outputs": [
        {
          "output_type": "stream",
          "name": "stdout",
          "text": [
            "Ingrese la longitud del primer cateto: 15\n",
            "Ingrese la longitudad del segundo cateto: 20\n",
            "La hipotenusa del triangulo rectangulo con catetos 15.0 y 20.0 es: 25.0\n"
          ]
        }
      ]
    },
    {
      "cell_type": "code",
      "source": [
        "A = float(input(\"Ingrese el valor de A: \"))\n",
        "B = float(input(\"Ingrese el valor de B: \"))\n",
        "\n",
        "promedio = (A + B) / 2\n",
        "\n",
        "print(f\"El promedio de {A} y {B} es: {promedio}\")"
      ],
      "metadata": {
        "colab": {
          "base_uri": "https://localhost:8080/"
        },
        "id": "EsnQbR7DS0WN",
        "outputId": "852da2c1-60aa-43a2-89f6-a4bbd13df09f"
      },
      "execution_count": 6,
      "outputs": [
        {
          "output_type": "stream",
          "name": "stdout",
          "text": [
            "Ingrese el valor de A: 4\n",
            "Ingrese el valor de B: 8\n",
            "El promedio de 4.0 y 8.0 es: 6.0\n"
          ]
        }
      ]
    },
    {
      "cell_type": "code",
      "source": [
        "base = float(input(\"Ingrese la longitud de la base del triangulo: \"))\n",
        "altura = float(input(\"Ingrese la altura del triangulo: \"))\n",
        "\n",
        "area = (base * altura) / 2\n",
        "\n",
        "print(f\"El area del triangulo con base {base} y altura {altura} es: {area}\")\n",
        "\n",
        "\n"
      ],
      "metadata": {
        "colab": {
          "base_uri": "https://localhost:8080/"
        },
        "id": "gxNhL7CUVGw8",
        "outputId": "53a4d1b1-19d9-45d7-d35e-625e7658037f"
      },
      "execution_count": 7,
      "outputs": [
        {
          "output_type": "stream",
          "name": "stdout",
          "text": [
            "Ingrese la longitud de la base del triangulo: 20\n",
            "Ingrese la altura del triangulo: 30\n",
            "El area del triangulo con base 20.0 y altura 30.0 es: 300.0\n"
          ]
        }
      ]
    },
    {
      "cell_type": "code",
      "source": [
        "Pi = 3.141592\n",
        "\n",
        "radio = float(input(\"Ingrese el radio de la circunferencia: \"))\n",
        "\n",
        "perimetro = 2 * Pi * radio\n",
        "superficie = Pi * radio**2\n",
        "\n",
        "print(f\"El perimetro de la circunferencia con radio {radio} es: {perimetro}\")\n",
        "print(f\"La superficie del circulo con radio {radio} es: {superficie}\")"
      ],
      "metadata": {
        "colab": {
          "base_uri": "https://localhost:8080/"
        },
        "id": "_BdRG6yOY0bV",
        "outputId": "76372011-3e13-4107-af7d-583b0589337b"
      },
      "execution_count": 8,
      "outputs": [
        {
          "output_type": "stream",
          "name": "stdout",
          "text": [
            "Ingrese el radio de la circunferencia: 4\n",
            "El perimetro de la circunferencia con radio 4.0 es: 25.132736\n",
            "La superficie del circulo con radio 4.0 es: 50.265472\n"
          ]
        }
      ]
    },
    {
      "cell_type": "code",
      "source": [
        "CV = int(input(\"Ingrese la cantidad de varones: \"))\n",
        "CM = int(input(\"Ingrese la cantidad de mujeres: \"))\n",
        "\n",
        "total_estudiantes = CV + CM\n",
        "\n",
        "porcentaje_varones = (CV / total_estudiantes) * 100\n",
        "porcentaje_mujeres = (CM / total_estudiantes) * 100\n",
        "\n",
        "print(f\"Porcentaje de varones en la clase: {porcentaje_varones}%\")\n",
        "print(f\"Porcentaje de mujeres en la clase: {porcentaje_mujeres}%\")"
      ],
      "metadata": {
        "colab": {
          "base_uri": "https://localhost:8080/"
        },
        "id": "Of2Z8fdcfB3j",
        "outputId": "742f141b-6f87-4796-e334-328aa7dfd4c4"
      },
      "execution_count": 10,
      "outputs": [
        {
          "output_type": "stream",
          "name": "stdout",
          "text": [
            "Ingrese la cantidad de varones: 60\n",
            "Ingrese la cantidad de mujeres: 40\n",
            "Porcentaje de varones en la clase: 60.0%\n",
            "Porcentaje de mujeres en la clase: 40.0%\n"
          ]
        }
      ]
    },
    {
      "cell_type": "code",
      "source": [
        "tamano_blu_ray_gb = 25\n",
        "tamano_cd_mb = 700\n",
        "\n",
        "tamano_disco_duro_gb = 500\n",
        "\n",
        "discos_blu_ray_necesarios = tamano_disco_duro_gb / tamano_blu_ray_gb\n",
        "discos_cd_necesarios = (tamano_disco_duro_gb * 1024) / tamano_cd_mb\n",
        "\n",
        "print(f\"Se necesitan {discos_blu_ray_necesarios:.2f} discos Blu-ray para el backup.\")\n",
        "print(f\"Se necesitan {discos_cd_necesarios:.2f} CDs para el backup.\")"
      ],
      "metadata": {
        "colab": {
          "base_uri": "https://localhost:8080/"
        },
        "id": "uVo3FslkhYwY",
        "outputId": "3573b3af-b4a4-4a7f-ff5e-1fb928fadd91"
      },
      "execution_count": 11,
      "outputs": [
        {
          "output_type": "stream",
          "name": "stdout",
          "text": [
            "Se necesitan 20.00 discos Blu-ray para el backup.\n",
            "Se necesitan 731.43 CDs para el backup.\n"
          ]
        }
      ]
    }
  ]
}