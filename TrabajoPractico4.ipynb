{
  "nbformat": 4,
  "nbformat_minor": 0,
  "metadata": {
    "colab": {
      "provenance": []
    },
    "kernelspec": {
      "name": "python3",
      "display_name": "Python 3"
    },
    "language_info": {
      "name": "python"
    }
  },
  "cells": [
    {
      "cell_type": "markdown",
      "source": [
        "## 1) Crear una lista vacia, luego llenarla de numeros aleatorios segun la cantidad del usuario."
      ],
      "metadata": {
        "id": "2ho5xrhF40ap"
      }
    },
    {
      "cell_type": "code",
      "source": [
        "import random\n",
        "\n",
        "cantidad_numeros = int(input(\"Ingrese la cantidad de numeros aleatorios: \"))\n",
        "lista_numeros = [random.randint(0, 100) for _ in range(cantidad_numeros)]\n",
        "print(\"Lista de numeros aleatorios:\", lista_numeros)"
      ],
      "metadata": {
        "colab": {
          "base_uri": "https://localhost:8080/"
        },
        "id": "SiZzI8vV5SMv",
        "outputId": "45a12053-d07d-4990-db1b-561be1d78b95"
      },
      "execution_count": 1,
      "outputs": [
        {
          "output_type": "stream",
          "name": "stdout",
          "text": [
            "Ingrese la cantidad de numeros aleatorios: 90\n",
            "Lista de numeros aleatorios: [0, 91, 69, 39, 56, 8, 93, 73, 65, 47, 47, 83, 78, 25, 32, 81, 38, 87, 49, 28, 6, 0, 53, 98, 90, 43, 0, 99, 78, 15, 66, 16, 96, 100, 0, 52, 16, 27, 28, 16, 32, 28, 88, 49, 7, 92, 40, 23, 29, 11, 1, 72, 88, 80, 67, 64, 28, 72, 67, 55, 28, 75, 63, 78, 11, 96, 87, 89, 44, 46, 12, 6, 10, 64, 56, 7, 84, 37, 10, 58, 77, 49, 76, 6, 78, 65, 70, 62, 67, 72]\n"
          ]
        }
      ]
    },
    {
      "cell_type": "markdown",
      "source": [
        "## 2) Crear un programa que permita llenar una lista de numeros y luego sumarlos."
      ],
      "metadata": {
        "id": "OfEo3snm705F"
      }
    },
    {
      "cell_type": "code",
      "source": [
        "cantidad_numeros = int(input(\"Ingrese la cantidad de numeros a sumar: \"))\n",
        "lista_numeros = [float(input(f\"Ingrese el numero #{i + 1}: \")) for i in range(cantidad_numeros)]\n",
        "suma = sum(lista_numeros)\n",
        "print(\"Suma de los numeros:\", suma)"
      ],
      "metadata": {
        "colab": {
          "base_uri": "https://localhost:8080/"
        },
        "id": "DN8eWe268DKY",
        "outputId": "0a950193-5ccf-409a-e86c-51d3d8a6c3b9"
      },
      "execution_count": 3,
      "outputs": [
        {
          "output_type": "stream",
          "name": "stdout",
          "text": [
            "Ingrese la cantidad de numeros a sumar: 5\n",
            "Ingrese el numero #1: 10\n",
            "Ingrese el numero #2: 20\n",
            "Ingrese el numero #3: 30\n",
            "Ingrese el numero #4: 40\n",
            "Ingrese el numero #5: 50\n",
            "Suma de los numeros: 150.0\n"
          ]
        }
      ]
    },
    {
      "cell_type": "markdown",
      "source": [
        "## 3) Crear un programa que permita calcular el promedio de edades de un curso."
      ],
      "metadata": {
        "id": "luExCCe_-b6c"
      }
    },
    {
      "cell_type": "code",
      "source": [
        "cantidad_alumnos = int(input(\"Ingrese la cantidad de alumnos en el curso: \"))\n",
        "edades = [float(input(\"Ingrese la edad del alumno #{i + 1}: \")) for i in range(cantidad_alumnos)]\n",
        "promedio = sum(edades) / len(edades)\n",
        "print(\"Promedio de edades:\", promedio)"
      ],
      "metadata": {
        "colab": {
          "base_uri": "https://localhost:8080/"
        },
        "id": "73j5coL0-nRR",
        "outputId": "22901f36-606c-49ac-e8ff-58d2bb34fa43"
      },
      "execution_count": 4,
      "outputs": [
        {
          "output_type": "stream",
          "name": "stdout",
          "text": [
            "Ingrese la cantidad de alumnos en el curso: 20\n",
            "Ingrese la edad del alumno #{i + 1}: 16\n",
            "Ingrese la edad del alumno #{i + 1}: 17\n",
            "Ingrese la edad del alumno #{i + 1}: 15\n",
            "Ingrese la edad del alumno #{i + 1}: 14\n",
            "Ingrese la edad del alumno #{i + 1}: 14\n",
            "Ingrese la edad del alumno #{i + 1}: 16\n",
            "Ingrese la edad del alumno #{i + 1}: 16\n",
            "Ingrese la edad del alumno #{i + 1}: 17\n",
            "Ingrese la edad del alumno #{i + 1}: 15\n",
            "Ingrese la edad del alumno #{i + 1}: 15\n",
            "Ingrese la edad del alumno #{i + 1}: 14\n",
            "Ingrese la edad del alumno #{i + 1}: 17\n",
            "Ingrese la edad del alumno #{i + 1}: 17\n",
            "Ingrese la edad del alumno #{i + 1}: 18\n",
            "Ingrese la edad del alumno #{i + 1}: 19\n",
            "Ingrese la edad del alumno #{i + 1}: 15\n",
            "Ingrese la edad del alumno #{i + 1}: 14\n",
            "Ingrese la edad del alumno #{i + 1}: 16\n",
            "Ingrese la edad del alumno #{i + 1}: 13\n",
            "Ingrese la edad del alumno #{i + 1}: 12\n",
            "Promedio de edades: 15.5\n"
          ]
        }
      ]
    },
    {
      "cell_type": "markdown",
      "source": [
        "## 4) Dado una lista de numero eliminar las repeticiones."
      ],
      "metadata": {
        "id": "9nUj3TTqBtpH"
      }
    },
    {
      "cell_type": "code",
      "source": [
        "lista_original = [1, 2, 3, 4, 4, 5]\n",
        "lista_sin_repeticiones = list(set(lista_original))\n",
        "print(\"Lista original:\", lista_original)\n",
        "print(\"Lista sin repeticiones:\", lista_sin_repeticiones)"
      ],
      "metadata": {
        "colab": {
          "base_uri": "https://localhost:8080/"
        },
        "id": "N0BYr4JtB3eK",
        "outputId": "25d02188-73dd-4a52-9d59-1db18ffb211e"
      },
      "execution_count": 5,
      "outputs": [
        {
          "output_type": "stream",
          "name": "stdout",
          "text": [
            "Lista original: [1, 2, 3, 4, 4, 5]\n",
            "Lista sin repeticiones: [1, 2, 3, 4, 5]\n"
          ]
        }
      ]
    },
    {
      "cell_type": "markdown",
      "source": [
        "## 5) Se solicita crear un programa que genere una cantidad dada por el usuario de cartones de bingo, los cartones deben tener una secuencia de numeros diferentes. Los numeros del carton son del 0 al 100."
      ],
      "metadata": {
        "id": "I3nitlEVD9ks"
      }
    },
    {
      "cell_type": "code",
      "source": [
        "import random\n",
        "\n",
        "cantidad_cartones = int(input(\"Ingrese la cantidad de cartones de bingo: \"))\n",
        "numeros_carton = random.sample(range(101), 25)\n",
        "\n",
        "for i in range(cantidad_cartones):\n",
        "  print(f\"Carton #{i + 1}: {random.sample(numeros_carton, 5)}\")"
      ],
      "metadata": {
        "colab": {
          "base_uri": "https://localhost:8080/"
        },
        "id": "JkX3CJf_EWtC",
        "outputId": "3f86b005-4615-405e-ebcd-466e4323ce5b"
      },
      "execution_count": 6,
      "outputs": [
        {
          "output_type": "stream",
          "name": "stdout",
          "text": [
            "Ingrese la cantidad de cartones de bingo: 5\n",
            "Carton #1: [59, 90, 51, 55, 64]\n",
            "Carton #2: [64, 54, 66, 61, 20]\n",
            "Carton #3: [76, 56, 94, 66, 64]\n",
            "Carton #4: [30, 99, 10, 1, 31]\n",
            "Carton #5: [61, 94, 1, 76, 30]\n"
          ]
        }
      ]
    },
    {
      "cell_type": "markdown",
      "source": [
        "## 1) Crear un programa que permita al usuario ingresar numeros telefonicos, luego debe mostrar un menu con las opciones de: crear un contacto. Eliminar un contacto y mostrar todos los contactos.\n"
      ],
      "metadata": {
        "id": "zEZ2CArYKV0I"
      }
    },
    {
      "cell_type": "code",
      "source": [
        "class Contacto:\n",
        "  def __init__ (self, nombre, numero):\n",
        "    self.nombre = nombre\n",
        "    self.numero = numero\n",
        "\n",
        "def crear_contacto(contactos):\n",
        "  nombre = input(\"Ingrese el nombre del contacto: \")\n",
        "  numero = input(\"Ingrese el numero telefonico: \")\n",
        "  contactos.append(Contacto(nombre, numero))\n",
        "  print(\"Contacto creado con exito!\")\n",
        "\n",
        "def eliminar_contacto(contactos):\n",
        "  nombre = input(\"Ingrese el nombre del contacto a eliminar: \")\n",
        "  for contacto in contactos:\n",
        "    if contacto.nombre == nombre:\n",
        "      contactos.remove(contacto)\n",
        "      print(\"Contacto eliminado con exito!\")\n",
        "      return\n",
        "      print(\"Contacto no encotrado.\")\n",
        "\n",
        "def mostrar_contactos(contactos):\n",
        "  print(\"\\nLista de contactos:\")\n",
        "  for contacto in contactos:\n",
        "    print(f\"{contacto.nombre}: {contacto.numero}\")\n",
        "    print()\n",
        "\n",
        "contactos = []\n",
        "\n",
        "while True:\n",
        "  print(\"Menu:\")\n",
        "  print(\"1. Crear contacto\")\n",
        "  print(\"2. Eliminar contacto\")\n",
        "  print(\"3. Mostrar contactos\")\n",
        "  print(\"4. Salir\")\n",
        "\n",
        "  opcion = int(input(\"Seleccioe una opcion: \"))\n",
        "\n",
        "  if opcion == 1:\n",
        "    crear_contacto(contactos)\n",
        "  elif opcion == 2:\n",
        "    eliminar_contacto(contactos)\n",
        "  elif opcion == 3:\n",
        "    mostrar_contactos(contactos)\n",
        "  elif opcion == 4:\n",
        "    break\n",
        "  else:\n",
        "    print(\"Opcion no valida. Intente de nuevo.\")\n"
      ],
      "metadata": {
        "colab": {
          "base_uri": "https://localhost:8080/"
        },
        "id": "iYTnHdExKy7q",
        "outputId": "c0aeb9bf-47a7-4bf4-8838-cd14e9d1f75b"
      },
      "execution_count": 12,
      "outputs": [
        {
          "name": "stdout",
          "output_type": "stream",
          "text": [
            "Menu:\n",
            "1. Crear contacto\n",
            "2. Eliminar contacto\n",
            "3. Mostrar contactos\n",
            "4. Salir\n",
            "Seleccioe una opcion: 1\n",
            "Ingrese el nombre del contacto: Ariel\n",
            "Ingrese el numero telefonico: 3876143729\n",
            "Contacto creado con exito!\n",
            "Menu:\n",
            "1. Crear contacto\n",
            "2. Eliminar contacto\n",
            "3. Mostrar contactos\n",
            "4. Salir\n",
            "Seleccioe una opcion: 2\n",
            "Ingrese el nombre del contacto a eliminar: Horacio\n",
            "Menu:\n",
            "1. Crear contacto\n",
            "2. Eliminar contacto\n",
            "3. Mostrar contactos\n",
            "4. Salir\n",
            "Seleccioe una opcion: 4\n"
          ]
        }
      ]
    },
    {
      "cell_type": "markdown",
      "source": [
        "## 2) El almacen de un barrio solicita un programa para el control de sotock de sus productos, dicho programa debe realizar las siguientes funciones: crear un producto, eliminar un producto, mostrar todos los productos con existencia y mostrar todos los productos sin existencia. Un producto cuenta con su nombre, codigo y stock."
      ],
      "metadata": {
        "id": "usrdsPwkdR6G"
      }
    },
    {
      "cell_type": "code",
      "source": [
        "class Producto:\n",
        "  def __init__(self, nombre, codigo, stock):\n",
        "    self.nombre = nombre\n",
        "    self.codigo = codigo\n",
        "    self.stock = stock\n",
        "\n",
        "def crear_producto(productos):\n",
        "  nombre = input(\"Ingrese el nombre del producto: \")\n",
        "  codigo = input(\"Ingrese el codigo del producto: \")\n",
        "  stock = int(input(\"Ingrese la cantidad en stock: \"))\n",
        "  productos.append(Producto(nombre, codigo, stock))\n",
        "  print(\"Producto creado con exito!\")\n",
        "\n",
        "def eliminar_producto(productos):\n",
        "  codigo = input(\"Ingrese el codigo del producto a eliminar: \")\n",
        "  for producto in productos:\n",
        "    if producto.codigo == codigo:\n",
        "      productos.remove(producto)\n",
        "      print(\"Producto eliminado con exito!\")\n",
        "      return\n",
        "    print(\"Producto no encontrado.\")\n",
        "\n",
        "def mostrar_con_existencia(productos):\n",
        "  print(\"\\nProductos con existencia:\")\n",
        "  for producto in productos:\n",
        "    if producto.stock > 0:\n",
        "      print(f\"{producto.nombre} ({producto.codigo}): {producto.stock}\")\n",
        "  print()\n",
        "\n",
        "def mostrar_sin_existencia(productos):\n",
        "  print(\"\\nProductos sin existencia:\")\n",
        "  for producto in productos:\n",
        "    if producto.stock == 0:\n",
        "      print(f\"{producto.nombre} ({producto.codigo}): {producto.stock}\")\n",
        "  print()\n",
        "\n",
        "productos = []\n",
        "\n",
        "\n",
        "while True:\n",
        "  print(\"Menu:\")\n",
        "  print(\"1. Crear producto\")\n",
        "  print(\"2. Eliminar producto\")\n",
        "  print(\"3. Mostrar productos con existencia\")\n",
        "  print(\"4. Mostrar productos sin existencia\")\n",
        "  print(\"5. Salir\")\n",
        "  opcion = int(input(\"Seleccione una opcion: \"))\n",
        "\n",
        "  if opcion == 1:\n",
        "    crear_producto(productos)\n",
        "  elif opcion == 2:\n",
        "    eliminar_producto(productos)\n",
        "  elif opcion == 3:\n",
        "    mostrar_con_existencia(productos)\n",
        "  elif opcion == 4:\n",
        "    mostrar_sin_existencia(productos)\n",
        "  elif opcion == 5:\n",
        "    break\n",
        "  else:\n",
        "    print(\"Opcion no valida. Intente de nuevo.\")\n"
      ],
      "metadata": {
        "colab": {
          "base_uri": "https://localhost:8080/"
        },
        "id": "MVgNf7JWeeCJ",
        "outputId": "39dcac14-2825-4b7d-8428-6d8669db3bbe"
      },
      "execution_count": 2,
      "outputs": [
        {
          "name": "stdout",
          "output_type": "stream",
          "text": [
            "Menu:\n",
            "1. Crear producto\n",
            "2. Eliminar producto\n",
            "3. Mostrar productos con existencia\n",
            "4. Mostrar productos sin existencia\n",
            "5. Salir\n",
            "Seleccione una opcion: 1\n",
            "Ingrese el nombre del producto: arroz\n",
            "Ingrese el codigo del producto: 123\n",
            "Ingrese la cantidad en stock: 50\n",
            "Producto creado con exito!\n",
            "Menu:\n",
            "1. Crear producto\n",
            "2. Eliminar producto\n",
            "3. Mostrar productos con existencia\n",
            "4. Mostrar productos sin existencia\n",
            "5. Salir\n",
            "Seleccione una opcion: 2\n",
            "Ingrese el codigo del producto a eliminar: 123\n",
            "Producto eliminado con exito!\n",
            "Menu:\n",
            "1. Crear producto\n",
            "2. Eliminar producto\n",
            "3. Mostrar productos con existencia\n",
            "4. Mostrar productos sin existencia\n",
            "5. Salir\n",
            "Seleccione una opcion: 5\n"
          ]
        }
      ]
    },
    {
      "cell_type": "markdown",
      "source": [
        "## 3) Dada una lista de sueldos, de cantidad no determinada, se solicita hacer un menu para determinar los siguientes reportes: a) Mostrar el sueldo mas alto. b) Determinar el sueldo promedio. c) Determinar la cantidad de sueldos que superen el promedio. d) Determinar el sueldo mas bajo"
      ],
      "metadata": {
        "id": "Yb76kkxFn-kv"
      }
    },
    {
      "cell_type": "code",
      "source": [
        "def sueldo_mas_alto(sueldos):\n",
        "  return max(sueldos)\n",
        "\n",
        "def sueldo_promedio(sueldos):\n",
        "  return sum(sueldos) / len(sueldos)\n",
        "\n",
        "def sueldos_superan_pomedio(sueldos, promedio):\n",
        "  return len ([sueldo for sueldo in sueldos if sueldo > promedio])\n",
        "\n",
        "def sueldo_mas_bajo(sueldos):\n",
        "  return min(sueldos)\n",
        "\n",
        "sueldos = []\n",
        "\n",
        "while True:\n",
        "  print(\"\\nMenu de reportes:\")\n",
        "  print(\"a. Mostrar el sueldo mas alto\")\n",
        "  print(\"b. Determinar el sueldo promedio\")\n",
        "  print(\"c. Determinar la cantidad de sueldos que superan el promedio\")\n",
        "  print(\"d. Determinar el sueldo mas bajo\")\n",
        "  print(\"e. Ingresar sueldo\")\n",
        "  print(\"f. Salir\")\n",
        "\n",
        "  opcion = input(\"Seleccione una opcion (a, b, c, d, e, f): \")\n",
        "  if opcion == 'a':\n",
        "    if sueldos:\n",
        "      print(\"Sueldo mas alto:\", sueldo_mas_alto(sueldos))\n",
        "    else:\n",
        "      print(\"No hay mas sueldos ingresados.\")\n",
        "\n",
        "  elif opcion == 'b':\n",
        "    if sueldos:\n",
        "      print(\"Sueldo promedio:\", sueldo_promedio(sueldos))\n",
        "    else:\n",
        "      print(\"No hay sueldos ingresados.\")\n",
        "\n",
        "  elif opcion == 'c':\n",
        "    if sueldos:\n",
        "      promedio = sueldo_promedio(sueldos)\n",
        "      print(\"Cantidad de sueldos que superan el promedio:\", sueldos_superan_promedio(sueldos, promedio))\n",
        "    else:\n",
        "      print(\"No hay sueldos ingresados.\")\n",
        "  elif opcion == 'd':\n",
        "    if sueldos:\n",
        "      print(\"Sueldo mas bajo:\", sueldo_mas_bajo(sueldos))\n",
        "    else:\n",
        "      print(\"No hay sueldos ingresados.\")\n",
        "  elif opcion == 'e':\n",
        "    nuevo_sueldo = float(input(\"Ingrese el sueldo: \"))\n",
        "    sueldos.append(nuevo_sueldo)\n",
        "    print(\"Sueldo ingresado con exito!\")\n",
        "  elif opcion == 'f':\n",
        "    break\n",
        "  else:\n",
        "    print(\"Opcion no valida. Intente de nuevo.\")\n",
        "\n",
        "\n"
      ],
      "metadata": {
        "colab": {
          "base_uri": "https://localhost:8080/"
        },
        "id": "LQzVirOSosUS",
        "outputId": "83423d72-4d3d-423b-e650-f1d3f64426fe"
      },
      "execution_count": 4,
      "outputs": [
        {
          "name": "stdout",
          "output_type": "stream",
          "text": [
            "\n",
            "Menu de reportes:\n",
            "a. Mostrar el sueldo mas alto\n",
            "b. Determinar el sueldo promedio\n",
            "c. Determinar la cantidad de sueldos que superan el promedio\n",
            "d. Determinar el sueldo mas bajo\n",
            "e. Ingresar sueldo\n",
            "f. Salir\n",
            "Seleccione una opcion (a, b, c, d, e, f): e\n",
            "Ingrese el sueldo: 500\n",
            "Sueldo ingresado con exito!\n",
            "\n",
            "Menu de reportes:\n",
            "a. Mostrar el sueldo mas alto\n",
            "b. Determinar el sueldo promedio\n",
            "c. Determinar la cantidad de sueldos que superan el promedio\n",
            "d. Determinar el sueldo mas bajo\n",
            "e. Ingresar sueldo\n",
            "f. Salir\n",
            "Seleccione una opcion (a, b, c, d, e, f): e\n",
            "Ingrese el sueldo: 400\n",
            "Sueldo ingresado con exito!\n",
            "\n",
            "Menu de reportes:\n",
            "a. Mostrar el sueldo mas alto\n",
            "b. Determinar el sueldo promedio\n",
            "c. Determinar la cantidad de sueldos que superan el promedio\n",
            "d. Determinar el sueldo mas bajo\n",
            "e. Ingresar sueldo\n",
            "f. Salir\n",
            "Seleccione una opcion (a, b, c, d, e, f): a\n",
            "Sueldo mas alto: 500.0\n",
            "\n",
            "Menu de reportes:\n",
            "a. Mostrar el sueldo mas alto\n",
            "b. Determinar el sueldo promedio\n",
            "c. Determinar la cantidad de sueldos que superan el promedio\n",
            "d. Determinar el sueldo mas bajo\n",
            "e. Ingresar sueldo\n",
            "f. Salir\n",
            "Seleccione una opcion (a, b, c, d, e, f): f\n"
          ]
        }
      ]
    }
  ]
}