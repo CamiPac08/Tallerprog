{
  "nbformat": 4,
  "nbformat_minor": 0,
  "metadata": {
    "colab": {
      "provenance": []
    },
    "kernelspec": {
      "name": "python3",
      "display_name": "Python 3"
    },
    "language_info": {
      "name": "python"
    }
  },
  "cells": [
    {
      "cell_type": "markdown",
      "source": [
        "## EJERCICIO 1\n"
      ],
      "metadata": {
        "id": "Ixsl5-r7DrBe"
      }
    },
    {
      "cell_type": "code",
      "source": [
        "print(\"1. Imprimir los numeros del 1 al 10:\")\n",
        "for i in range(1, 11):\n",
        "      print(i)\n",
        "\n",
        "N = 5\n",
        "suma = 0\n",
        "print(\"\\n2. Calcular la suma de los primeros N numeros naturales:\")\n",
        "for i in range(1, N + 1):\n",
        "      suma += i\n",
        "print(f\"La suma de los primeros {N} numeros naturales es: {suma}\")\n",
        "\n",
        "\n",
        "numero = 7\n",
        "print(f\"\\n3. Generar la tabla de multiplicar del {numero} hasta el 10:\")\n",
        "for i in range(1, 11):\n",
        "      resultado = numero * 1\n",
        "      print(f\"{numero} x {i} = {resultado}\")\n",
        "\n",
        "\n",
        "N = 6\n",
        "print(f\"\\n4. Imprimir los primeros {N} numeros pares:\")\n",
        "for i in range(2, 2 * N + 1, 2):\n",
        "      print(i)\n",
        "\n",
        "num_factorial = 4\n",
        "factorial = 1\n",
        "print(f\"\\n5. Calcular el factorial de {num_factorial}:\")\n",
        "for i in range(1, num_factorial + 1):\n",
        "      factorial *= i\n",
        "      print(f\"El factorial de {num_factorial} es: {factorial}\")"
      ],
      "metadata": {
        "colab": {
          "base_uri": "https://localhost:8080/"
        },
        "id": "13kg0hoDDvEL",
        "outputId": "e3f72eab-cfb1-491f-d706-5df3b19e00ae"
      },
      "execution_count": 10,
      "outputs": [
        {
          "output_type": "stream",
          "name": "stdout",
          "text": [
            "1. Imprimir los numeros del 1 al 10:\n",
            "1\n",
            "2\n",
            "3\n",
            "4\n",
            "5\n",
            "6\n",
            "7\n",
            "8\n",
            "9\n",
            "10\n",
            "\n",
            "2. Calcular la suma de los primeros N numeros naturales:\n",
            "La suma de los primeros 5 numeros naturales es: 15\n",
            "\n",
            "3. Generar la tabla de multiplicar del 7 hasta el 10:\n",
            "7 x 1 = 7\n",
            "7 x 2 = 7\n",
            "7 x 3 = 7\n",
            "7 x 4 = 7\n",
            "7 x 5 = 7\n",
            "7 x 6 = 7\n",
            "7 x 7 = 7\n",
            "7 x 8 = 7\n",
            "7 x 9 = 7\n",
            "7 x 10 = 7\n",
            "\n",
            "4. Imprimir los primeros 6 numeros pares:\n",
            "2\n",
            "4\n",
            "6\n",
            "8\n",
            "10\n",
            "12\n",
            "\n",
            "5. Calcular el factorial de 4:\n",
            "El factorial de 4 es: 1\n",
            "El factorial de 4 es: 2\n",
            "El factorial de 4 es: 6\n",
            "El factorial de 4 es: 24\n"
          ]
        }
      ]
    },
    {
      "cell_type": "markdown",
      "source": [
        "## EJERCICIO 2\n"
      ],
      "metadata": {
        "id": "_ZOXOw-IW2lq"
      }
    },
    {
      "cell_type": "code",
      "source": [
        "import random\n",
        "\n",
        "numero_secreto = random.randint(1,100)\n",
        "intentos = 0\n",
        "adivinado = False\n",
        "\n",
        "print(\"1. Adivina el numero secreto (entre 1 y 100):\")\n",
        "\n",
        "while not adivinado:\n",
        "  intento_usuario = int(input(\"Introduce tu intento: \"))\n",
        "  intentos += 1\n",
        "  if intento_usuario == numero_secreto:\n",
        "    print(f\"¡Correcto! Adivinaste el numero en {intentos} intentos.\")\n",
        "    adivinado = True\n",
        "  elif intento_usuario < numero_secreto:\n",
        "    print(\"El numero es mayor. ¡Sigue intentando!\")\n",
        "  else:\n",
        "    print(\"El numero es menor. ¡Sigue intendado!\")\n",
        "\n",
        "numero_entero = 456789\n",
        "contador_digitos = 0\n",
        "temp_numero = abs(numero_entero)\n",
        "\n",
        "while temp_numero > 0:\n",
        "  temp_numero //= 10\n",
        "  contador_digitos += 1\n",
        "\n",
        "print(f\"\\n2. El numero {numero_entero} tiene {contador_digitos} digitos.\")\n",
        "\n",
        "numero_a_sumar = 987\n",
        "suma_digitos = 0\n",
        "temp_numero = abs(numero_a_sumar)\n",
        "\n",
        "while temp_numero > 0:\n",
        "  suma_digitos += temp_numero % 10\n",
        "  temp_numero //= 10\n",
        "\n",
        "print(f\"\\n3. La suma de los digitos de {numero_a_sumar} es {suma_digitos}.\")\n",
        "\n",
        "numero_primo = 17\n",
        "es_primo = True\n",
        "divisor = 2\n",
        "\n",
        "while divisor <= numero_primo // 2:\n",
        "  if numero_primo % divisor == 0:\n",
        "    es_primo = False\n",
        "    break\n",
        "  divisor += 1\n",
        "\n",
        "if es_primo:\n",
        "  print(f\"\\n4. {numero_primo} es un numero primo.\")\n",
        "else:\n",
        "  print(f\"\\n4. {numero_primo} no es un numero primo.\")\n",
        "\n",
        "N = 10\n",
        "fibonacci = []\n",
        "a, b = 0, 1\n",
        "\n",
        "while len(fibonacci) < N:\n",
        "  fibonacci.append(a)\n",
        "  a, b = b, a + b\n",
        "print(f\"\\n5. Los primeros {N} terminos de la secuencia de Fibonacci son: {fibonacci}\")"
      ],
      "metadata": {
        "colab": {
          "base_uri": "https://localhost:8080/"
        },
        "id": "bN4g6ObzW53l",
        "outputId": "7dc415f2-68ed-440d-abf3-06ac98cf0487"
      },
      "execution_count": 11,
      "outputs": [
        {
          "output_type": "stream",
          "name": "stdout",
          "text": [
            "1. Adivina el numero secreto (entre 1 y 100):\n",
            "Introduce tu intento: 50\n",
            "El numero es mayor. ¡Sigue intentando!\n",
            "Introduce tu intento: 10\n",
            "El numero es mayor. ¡Sigue intentando!\n",
            "Introduce tu intento: 20\n",
            "El numero es mayor. ¡Sigue intentando!\n",
            "Introduce tu intento: 25\n",
            "El numero es mayor. ¡Sigue intentando!\n",
            "Introduce tu intento: 80\n",
            "El numero es mayor. ¡Sigue intentando!\n",
            "Introduce tu intento: 90\n",
            "El numero es menor. ¡Sigue intendado!\n",
            "Introduce tu intento: 100\n",
            "El numero es menor. ¡Sigue intendado!\n",
            "Introduce tu intento: 70\n",
            "El numero es mayor. ¡Sigue intentando!\n",
            "Introduce tu intento: 45\n",
            "El numero es mayor. ¡Sigue intentando!\n",
            "Introduce tu intento: 80\n",
            "El numero es mayor. ¡Sigue intentando!\n",
            "Introduce tu intento: 90\n",
            "El numero es menor. ¡Sigue intendado!\n",
            "Introduce tu intento: 82\n",
            "El numero es mayor. ¡Sigue intentando!\n",
            "Introduce tu intento: 84\n",
            "El numero es mayor. ¡Sigue intentando!\n",
            "Introduce tu intento: 85\n",
            "El numero es mayor. ¡Sigue intentando!\n",
            "Introduce tu intento: 86\n",
            "¡Correcto! Adivinaste el numero en 15 intentos.\n",
            "\n",
            "2. El numero 456789 tiene 6 digitos.\n",
            "\n",
            "3. La suma de los digitos de 987 es 24.\n",
            "\n",
            "4. 17 es un numero primo.\n",
            "\n",
            "5. Los primeros 10 terminos de la secuencia de Fibonacci son: [0, 1, 1, 2, 3, 5, 8, 13, 21, 34]\n"
          ]
        }
      ]
    },
    {
      "cell_type": "markdown",
      "source": [
        "## EJERCICIO 3\n"
      ],
      "metadata": {
        "id": "ZGk_De0YlEse"
      }
    },
    {
      "cell_type": "code",
      "source": [
        "inicio_rango = int(input(\"Ingrese el inicio del rango: \"))\n",
        "fin_rango = int(input(\"Ingrese el final del rango: \"))\n",
        "\n",
        "print(\"\\n1. Numeros perfectos en el rango:\")\n",
        "for num in range(inicio_rango, fin_rango + 1):\n",
        "  suma_divisores = sum(i for i in range (1, num) if num % i == 0)\n",
        "  if suma_divisores == num:\n",
        "    print(num)\n",
        "\n",
        "niveles = 5\n",
        "\n",
        "print(\"\\n2. Patron de triangulo:\")\n",
        "for i in range(niveles):\n",
        "  for j in range(i + 1):\n",
        "    print(j, end=\" \")\n",
        "    print()\n",
        "\n",
        "inicio_rango_amigos = int(input(\"\\nIngrese el inicio del rango para numeros amigos: \"))\n",
        "fin_rango_amigos = int(input(\"Ingrese el final del rango para numeros amigos: \"))\n",
        "\n",
        "print(\"\\n3. Pares de numeros amigos en el rango:\")\n",
        "for num1 in range(inicio_rango_amigos, fin_rango_amigos + 1):\n",
        "  sum_div1 = sum(i for i in range(1, num1) if num1 % i == 0)\n",
        "  for num2 in range(num1 + 1, fin_rango_amigos + 1):\n",
        "    sum_div2 = sum(i for i in range(1, num2) if num2 % i == 0)\n",
        "    if sum_div1 == num2 and sum_div2 == num1:\n",
        "        print(f\"({num1}, {num2}) son numeros amigos.\")\n",
        "\n",
        "num_armstrong = int(input(\"\\nIngrese un numero para verificar si es un numero de Armstrong: \"))\n",
        "temp = num_armstrong\n",
        "num_digitos = len(str(num_armstrong))\n",
        "suma = 0\n",
        "\n",
        "while temp > 0:\n",
        "  digito = temp % 10\n",
        "  suma += digito ** num_digitos\n",
        "  temp //= 10\n",
        "\n",
        "if suma == num_armstrong:\n",
        "  print(f\"\\n4. {num_armstrong} es un numero de Armstrong.\")\n",
        "else:\n",
        "  print(f\"\\n4. {num_armstrong} no es un numero Armstrong.\")"
      ],
      "metadata": {
        "colab": {
          "base_uri": "https://localhost:8080/"
        },
        "id": "MHUbDT2clKxE",
        "outputId": "873e5324-1591-4a91-cc80-d361e1b2175d"
      },
      "execution_count": 21,
      "outputs": [
        {
          "output_type": "stream",
          "name": "stdout",
          "text": [
            "Ingrese el inicio del rango: 220\n",
            "Ingrese el final del rango: 284\n",
            "\n",
            "1. Numeros perfectos en el rango:\n",
            "\n",
            "2. Patron de triangulo:\n",
            "0 \n",
            "0 \n",
            "1 \n",
            "0 \n",
            "1 \n",
            "2 \n",
            "0 \n",
            "1 \n",
            "2 \n",
            "3 \n",
            "0 \n",
            "1 \n",
            "2 \n",
            "3 \n",
            "4 \n",
            "\n",
            "Ingrese el inicio del rango para numeros amigos: 1\n",
            "Ingrese el final del rango para numeros amigos: 2\n",
            "\n",
            "3. Pares de numeros amigos en el rango:\n",
            "\n",
            "Ingrese un numero para verificar si es un numero de Armstrong: 371\n",
            "\n",
            "4. 371 es un numero de Armstrong.\n"
          ]
        }
      ]
    },
    {
      "cell_type": "markdown",
      "source": [],
      "metadata": {
        "id": "r6Gp8IuODphN"
      }
    }
  ]
}