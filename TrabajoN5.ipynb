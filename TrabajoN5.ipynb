{
  "nbformat": 4,
  "nbformat_minor": 0,
  "metadata": {
    "colab": {
      "provenance": []
    },
    "kernelspec": {
      "name": "python3",
      "display_name": "Python 3"
    },
    "language_info": {
      "name": "python"
    }
  },
  "cells": [
    {
      "cell_type": "markdown",
      "source": [
        "## 1) Crear un diccionario vacio, luego llenarlo con el dni y apellido del usuario y mostrar los datos."
      ],
      "metadata": {
        "id": "pXwiwVGKS8bT"
      }
    },
    {
      "cell_type": "code",
      "source": [
        "usuario = {}\n",
        "usuario['dni'] = input(\"Ingrese su DNI: \")\n",
        "usuario['apellido'] = input(\"Ingrese su apellido: \")\n",
        "print(\"Datos del usuario:\", usuario)\n"
      ],
      "metadata": {
        "colab": {
          "base_uri": "https://localhost:8080/"
        },
        "id": "zaKQ5Qp5TNpg",
        "outputId": "b7c3b7ad-b44f-4989-d94e-791d9d8dc517"
      },
      "execution_count": 1,
      "outputs": [
        {
          "output_type": "stream",
          "name": "stdout",
          "text": [
            "Ingrese su DNI: 42607258\n",
            "Ingrese su apellido: Cordoba\n",
            "Datos del usuario: {'dni': '42607258', 'apellido': 'Cordoba'}\n"
          ]
        }
      ]
    },
    {
      "cell_type": "markdown",
      "source": [
        "## 2) Crear un diccionario que permita guardar y mostrar contactos de telefonos (nombre y numero)"
      ],
      "metadata": {
        "id": "rgwMP3ToUTNP"
      }
    },
    {
      "cell_type": "code",
      "source": [
        "contactos = {}\n",
        "while True:\n",
        "  nombre = input(\"Ingrese el nombre del contacto (o 'fin' para terminar): \")\n",
        "  if nombre.lower() == 'fin':\n",
        "    break\n",
        "  numero = input(\"Ingrese el numero de telefono del contacto\")\n",
        "  contactos[nombre] = numero\n",
        "\n",
        "print(\"Lista de contactos:\")\n",
        "for nombre, numero in contactos.items():\n",
        "  print(f\"{nombre}: {numero}\")\n"
      ],
      "metadata": {
        "colab": {
          "base_uri": "https://localhost:8080/"
        },
        "id": "_Wjaf3f2Uhx5",
        "outputId": "a0dfbf02-2abe-48cf-915c-e0617e3dd2ed"
      },
      "execution_count": 3,
      "outputs": [
        {
          "output_type": "stream",
          "name": "stdout",
          "text": [
            "Ingrese el nombre del contacto (o 'fin' para terminar): Ariel\n",
            "Ingrese el numero de telefono del contacto3876143729\n",
            "Ingrese el nombre del contacto (o 'fin' para terminar): fin\n",
            "Lista de contactos:\n",
            "Ariel: 3876143729\n"
          ]
        }
      ]
    },
    {
      "cell_type": "markdown",
      "source": [
        "## 3) Se desea crear un script para el manejo de una cuenta de banco, la cuenta tiene un dni y un saldo. El programa debe permitir ingresar, sacar dinero y eliminar cuenta.\n"
      ],
      "metadata": {
        "id": "PZfHE7CyWuzN"
      }
    },
    {
      "cell_type": "code",
      "source": [
        "cuenta_bancaria = {'dni': input(\"Ingrese su DNI para la cuenta bancaria: \"), 'saldo': 0}\n",
        "\n",
        "def ingresar_dinero(cantidad):\n",
        "  cuenta_bancaria['saldo'] += cantidad\n",
        "  print(f\"Se han ingresado {cantidad} euros. Saldo actual: {cuenta_bancaria['saldo']} euros.\")\n",
        "\n",
        "def sacar_dinero(cantidad):\n",
        "  if cantidad <= cuenta_bancaria['saldo']:\n",
        "    cuenta_bancaria['saldo'] -= cantidad\n",
        "    print(f\"Se han retirado {cantidad} euros. Saldo actual: {cuenta_bancaria['saldo']} euros.\")\n",
        "  else:\n",
        "    print(\"Saldo insuficiente.\")\n",
        "\n",
        "def eliminar_cuenta():\n",
        "  confirmacion = input(\"¿Esta seguro de que desea eliminar la cuenta? (Si/No): \")\n",
        "  if confirmacion.lower() == 'si':\n",
        "    del cuenta_bancaria\n",
        "    print(\"La cuenta ha sido eliminada.\")\n",
        "  else:\n",
        "    print(\"Operacion cancelada.\")"
      ],
      "metadata": {
        "colab": {
          "base_uri": "https://localhost:8080/"
        },
        "id": "NakKX2S7XFFK",
        "outputId": "9de3f81b-690e-45ca-ab1d-32b2463649bd"
      },
      "execution_count": 2,
      "outputs": [
        {
          "name": "stdout",
          "output_type": "stream",
          "text": [
            "Ingrese su DNI para la cuenta bancaria: 42607258\n"
          ]
        }
      ]
    },
    {
      "cell_type": "markdown",
      "source": [
        "## 4) Se necesita crear un script para el manejo de articulos de un almacen, para ello crear un diccionario con el codigo de articulo, el nombre, precio y exxistencia. Crear un menu que permita mostrar los datos del articulo, modificar un articulo y eliminar un articulo."
      ],
      "metadata": {
        "id": "HYZEgh2E9UL8"
      }
    },
    {
      "cell_type": "code",
      "source": [
        "almacen = {}\n",
        "\n",
        "def mostrar_datos_articulo(codigo):\n",
        "  if codigo in almacen:\n",
        "    print(f\"Datos del articulo {codigo}: {almacen[codigo]}\")\n",
        "  else:\n",
        "    print(f\"El articulo con codigo {codigo} no existe.\")\n",
        "\n",
        "def modificar_articulo(codigo, nombre, precio, existencia):\n",
        "  almacen[codigo] = {'nombre' : nombre, 'precio': precio, 'existencia': existencia}\n",
        "  print(f\"Articulo {codigo} modificado correctamente.\")\n",
        "\n",
        "def eliminar_articulo(codigo):\n",
        "  if codigo in almacen:\n",
        "    del almacen[codigo]\n",
        "    print(f\"Articulo {codigo} eliminado correctamente.\")\n",
        "  else:\n",
        "    print(f\"El articulo con codigo {codigo} no existe.\")\n",
        "\n",
        "while True:\n",
        "  print(\"\\nMenu del almacen:\")\n",
        "  print(\"1. Mostrar datos del articulo.\")\n",
        "  print(\"2. Modificar un articulo.\")\n",
        "  print(\"3. Eliminar un articulo.\")\n",
        "  print(\"4. Salir.\")\n",
        "\n",
        "  opcion = int(input(\"Seleccione una opccion (1-4): \"))\n",
        "\n",
        "  if opcion == 1:\n",
        "    codigo_articulo = input(\"Ingrese el codigo del articulo: \")\n",
        "    mostrar_datos_articulo(codigo_articulo)\n",
        "  elif opcion == 2:\n",
        "    codigo_articulo = input(\"Ingrese el codigo del articulo: \")\n",
        "    nombre_articulo = input(\"Ingrese el nuevo nombre del articulo: \")\n",
        "    precio_articulo = float(input(\"Ingrese el nuevo precio del articulo: \"))\n",
        "    existencia_articulo = int(input(\"Ingrese la nueva existencia del articulo: \"))\n",
        "    modificar_articulo(codigo_articulo, nombre_articulo, precio_articulo, existencia_articulo)\n",
        "\n",
        "  elif opcion == 3:\n",
        "    codigo_articulo = input(\"Ingrese el codigo del articulo a eliminar: \")\n",
        "    eliminar_articulo(codigo_articulo)\n",
        "  elif opcion == 4:\n",
        "    break\n",
        "  else:\n",
        "    print(\"Opcion no valida. Intentelo de nuevo.\")\n",
        "\n",
        "print(\"¡Gracias por utilizar el programa!\")"
      ],
      "metadata": {
        "colab": {
          "base_uri": "https://localhost:8080/"
        },
        "id": "VWHAOsEy-kuH",
        "outputId": "7dba981f-9290-4760-cbdd-78f7e8307956"
      },
      "execution_count": 3,
      "outputs": [
        {
          "output_type": "stream",
          "name": "stdout",
          "text": [
            "\n",
            "Menu del almacen:\n",
            "1. Mostrar datos del articulo.\n",
            "2. Modificar un articulo.\n",
            "3. Eliminar un articulo.\n",
            "4. Salir.\n",
            "Seleccione una opccion (1-4): 1\n",
            "Ingrese el codigo del articulo: 12345\n",
            "El articulo con codigo 12345 no existe.\n",
            "\n",
            "Menu del almacen:\n",
            "1. Mostrar datos del articulo.\n",
            "2. Modificar un articulo.\n",
            "3. Eliminar un articulo.\n",
            "4. Salir.\n",
            "Seleccione una opccion (1-4): 2\n",
            "Ingrese el codigo del articulo: 12\n",
            "Ingrese el nuevo nombre del articulo: 12345\n",
            "Ingrese el nuevo precio del articulo: 50\n",
            "Ingrese la nueva existencia del articulo: 12345\n",
            "Articulo 12 modificado correctamente.\n",
            "\n",
            "Menu del almacen:\n",
            "1. Mostrar datos del articulo.\n",
            "2. Modificar un articulo.\n",
            "3. Eliminar un articulo.\n",
            "4. Salir.\n",
            "Seleccione una opccion (1-4): 4\n",
            "¡Gracias por utilizar el programa!\n"
          ]
        }
      ]
    }
  ]
}